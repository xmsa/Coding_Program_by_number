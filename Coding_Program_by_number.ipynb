{
 "cells": [
  {
   "cell_type": "markdown",
   "id": "2f7fbf6b",
   "metadata": {},
   "source": [
    "# Computability, Complexity, and Languages, Second Edition Martin Davis\n"
   ]
  },
  {
   "cell_type": "code",
   "execution_count": 367,
   "id": "0a644204",
   "metadata": {},
   "outputs": [],
   "source": [
    "import re"
   ]
  },
  {
   "cell_type": "markdown",
   "id": "5edfea39",
   "metadata": {},
   "source": [
    "# for encoding:\n",
    "$$ \\langle x,y\\rangle=z : z = max(2^x(2y+1) - 1,0) $$\n",
    "# for decoding:\n",
    "$$ \\langle x,y\\rangle = z : (2y+1) = \\frac {z+1}{x^2} $$"
   ]
  },
  {
   "cell_type": "code",
   "execution_count": 368,
   "id": "1ef84eae",
   "metadata": {},
   "outputs": [],
   "source": [
    "def encode(x,y):\n",
    "    return max(2**x*(2*y+1)-1,0 )\n",
    "\n",
    "def decode(z):\n",
    "    z+=1\n",
    "    x = 0\n",
    "    while not(z%2):\n",
    "        z=z//2\n",
    "        x+=1\n",
    "    y = (z-1)//2\n",
    "    return x,y"
   ]
  },
  {
   "cell_type": "code",
   "execution_count": 369,
   "id": "0a57d049",
   "metadata": {},
   "outputs": [],
   "source": [
    "def getvar(inp):\n",
    "    '''this function\n",
    "    if inp is str return number Varable(int)\n",
    "    else if inp is int return Varable(str)\n",
    "    else raise TypeError'''\n",
    "    \n",
    "    var = (\"Y\",\"X\",\"Z\")\n",
    "    \n",
    "    if type(inp) is str:\n",
    "        s=inp\n",
    "        \n",
    "        alpha,num = re.match(r\"([\\D]+)([\\d]*)\",s).groups()\n",
    "        if num==\"\":\n",
    "            num=1\n",
    "        if alpha not in var:\n",
    "            raise Exception(\"Variable not found\")\n",
    "        v = var.index(alpha)\n",
    "        n = int(num)\n",
    "        return (n-1)*2+v\n",
    "    elif type(inp) is int:\n",
    "        n=inp\n",
    "        \n",
    "        if n == 0:\n",
    "            return var[0]\n",
    "        elif n%2==1:\n",
    "            return f\"{var[1]}{(n+1)//2}\"\n",
    "        elif n%2==0:\n",
    "            return f\"{var[2]}{(n+1)//2}\"\n",
    "    raise TypeError    "
   ]
  },
  {
   "cell_type": "code",
   "execution_count": 370,
   "id": "8cd43aba",
   "metadata": {},
   "outputs": [],
   "source": [
    "def getlabel(inp):\n",
    "    '''this function\n",
    "    if inp is str return number label(int)\n",
    "    else if inp is int return label(str)\n",
    "    else raise TypeError'''\n",
    "    label = (\"A\",\"B\",\"C\",\"D\",\"E\")\n",
    "    \n",
    "    if type(inp) is str:\n",
    "        s=inp\n",
    "\n",
    "        alpha,num = re.match(r\"([\\D]+)([\\d]*)\",s).groups()\n",
    "        if num==\"\":\n",
    "            num = 1\n",
    "        if alpha not in label:\n",
    "            raise Exception(\"Label not found\")\n",
    "        l = label.index(alpha)\n",
    "        n = int(num)\n",
    "        return (n-1)*5+l+1\n",
    "    \n",
    "    elif type(inp) is int:\n",
    "        n=inp\n",
    "        if n == 0:\n",
    "            return \"\"\n",
    "        l = label[(n-1)%5]\n",
    "        num = ((n-1)//5)+1\n",
    "        if num==1:\n",
    "            num = \"\"\n",
    "        return f\"{l}{num}\"\n",
    "    \n",
    "    raise TypeError"
   ]
  },
  {
   "cell_type": "code",
   "execution_count": 371,
   "id": "5064babc",
   "metadata": {},
   "outputs": [],
   "source": [
    "def convert_to_num(s:str)->tuple:\n",
    "    \"\"\"This function receives the program instruction and converts it to a number:\n",
    "    args:\n",
    "        s is instruction \n",
    "    return\n",
    "        <a,<b,c>>, #P\"\"\"\n",
    "    s1 = re.sub(r\"\\s\",\"\",s)\n",
    "    s1 = re.sub(r\"\\]\",\"] \",s1)\n",
    "    b0 = re.match(r\"\\[?([\\w]*)\\]?[\\s]?([\\w]*)<-[\\w]+\",s1)\n",
    "    b1 = re.match(r\"\\[?([\\w]*)\\]?[\\s]?([\\w]*)<-[\\w]+\\+1\",s1)\n",
    "    b2 = re.match(r\"\\[?([\\w]*)\\]?[\\s]?([\\w]*)<-[\\w]+\\-1\",s1)\n",
    "    b3 = re.match(r'\\[?([\\w]*)\\]?[\\s]?IF([\\w]*)!=0GOTO([\\w]*)',s1)\n",
    "    ll = \"\"\n",
    "    if b1:\n",
    "        b= 1\n",
    "        l,v  = b1.groups()\n",
    "        if v==\"\":\n",
    "            l,v = \"\",l\n",
    "    elif b2:\n",
    "        b= 2\n",
    "        l,v  = b2.groups()\n",
    "        if v==\"\":\n",
    "            l,v = \"\",l\n",
    "    elif b0:\n",
    "        b= 0\n",
    "        l,v  = b0.groups()\n",
    "        if v==\"\":\n",
    "            l,v = \"\",l\n",
    "    elif b3:\n",
    "        l,v,ll=b3.groups()\n",
    "        b = getlabel(ll)+2\n",
    "    \n",
    "#     print(s,b,l,v,ll,sep=\",\")\n",
    "    if l==\"\":\n",
    "        a = 0\n",
    "    else:\n",
    "        a = getlabel(l)\n",
    "    c= getvar(v)\n",
    "    num = encode(a,encode(b,c))\n",
    "    print(f\"{s:25}<{a},<{b},{c}>>:{num:>5}\")\n",
    "    \n",
    "    return (a,b,c) , num"
   ]
  },
  {
   "cell_type": "code",
   "execution_count": 372,
   "id": "7e03ab88",
   "metadata": {},
   "outputs": [],
   "source": [
    "def convert_to_program(num:int)->str:\n",
    "    \"\"\"This function receives the number and converts it to program instruction:\n",
    "    args:\n",
    "        num is number of program instruction\n",
    "    return\n",
    "        instruction\"\"\"\n",
    "    a,bc = decode(num)\n",
    "    b,c = decode(bc)\n",
    "    if a == 0 :\n",
    "        s = \"    \"\n",
    "    else:\n",
    "        s = f\"[{getlabel(a)}] \"\n",
    "\n",
    "    v = getvar(c)\n",
    "    if b==0:\n",
    "        s+=f\"{v}<-{v}\"\n",
    "    elif b==1:\n",
    "        s+=f\"{v}<-{v}+1\"\n",
    "    elif b==2:\n",
    "        s+=f\"{v}<-{v}-1\"\n",
    "    else:\n",
    "        ll = getlabel(b-2)\n",
    "        s+=f\"IF {v}!=0 GOTO {ll}\"\n",
    "    print(f\"<{a},<{b},{c}>>:{num:>5}\\t{s}\")\n",
    "    return s\n"
   ]
  },
  {
   "cell_type": "markdown",
   "id": "cd173f0b",
   "metadata": {},
   "source": [
    "# Convert Program to number (Godel Number)"
   ]
  },
  {
   "cell_type": "code",
   "execution_count": 373,
   "id": "2ebab757",
   "metadata": {},
   "outputs": [],
   "source": [
    "program = \"\"\"[A] X<-X+1\n",
    "    IF X!=0 GOTO A\"\"\""
   ]
  },
  {
   "cell_type": "code",
   "execution_count": 374,
   "id": "965105d6",
   "metadata": {},
   "outputs": [
    {
     "name": "stdout",
     "output_type": "stream",
     "text": [
      "[A] X<-X+1               <1,<1,1>>:   21\n",
      "    IF X!=0 GOTO A       <0,<3,1>>:   46\n"
     ]
    }
   ],
   "source": [
    "m = []\n",
    "for s in program.split(\"\\n\"):\n",
    "    m.append(convert_to_num(s)[1])\n",
    "    \n"
   ]
  },
  {
   "cell_type": "code",
   "execution_count": 375,
   "id": "ec7175dc",
   "metadata": {},
   "outputs": [
    {
     "name": "stdout",
     "output_type": "stream",
     "text": [
      "[21, 46]\n"
     ]
    }
   ],
   "source": [
    "print(m)"
   ]
  },
  {
   "cell_type": "markdown",
   "id": "2b58f969",
   "metadata": {},
   "source": [
    "# convert number (Godel Number) to Program"
   ]
  },
  {
   "cell_type": "code",
   "execution_count": 376,
   "id": "2fcd8439",
   "metadata": {},
   "outputs": [],
   "source": [
    "m2 = [21, 46]"
   ]
  },
  {
   "cell_type": "code",
   "execution_count": 377,
   "id": "cee0c13f",
   "metadata": {},
   "outputs": [
    {
     "name": "stdout",
     "output_type": "stream",
     "text": [
      "<1,<1,1>>:   21\t[A] X1<-X1+1\n",
      "<0,<3,1>>:   46\t    IF X1!=0 GOTO A\n"
     ]
    }
   ],
   "source": [
    "program2 = []\n",
    "for num in m2:\n",
    "    program2.append(convert_to_program(num))\n",
    "    \n"
   ]
  },
  {
   "cell_type": "code",
   "execution_count": 378,
   "id": "b7278dd4",
   "metadata": {},
   "outputs": [
    {
     "name": "stdout",
     "output_type": "stream",
     "text": [
      "[A] X1<-X1+1\n",
      "    IF X1!=0 GOTO A\n"
     ]
    }
   ],
   "source": [
    "print('\\n'.join(program2))"
   ]
  }
 ],
 "metadata": {
  "kernelspec": {
   "display_name": "Python 3 (ipykernel)",
   "language": "python",
   "name": "python3"
  },
  "language_info": {
   "codemirror_mode": {
    "name": "ipython",
    "version": 3
   },
   "file_extension": ".py",
   "mimetype": "text/x-python",
   "name": "python",
   "nbconvert_exporter": "python",
   "pygments_lexer": "ipython3",
   "version": "3.10.5"
  }
 },
 "nbformat": 4,
 "nbformat_minor": 5
}
